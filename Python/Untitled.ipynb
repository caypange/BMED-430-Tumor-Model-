{
 "cells": [
  {
   "cell_type": "code",
   "execution_count": 34,
   "id": "050b4517",
   "metadata": {},
   "outputs": [
    {
     "name": "stdout",
     "output_type": "stream",
     "text": [
      "c = 19.4\n",
      "d = 1.09\n",
      "c another way =19.4\n"
     ]
    },
    {
     "data": {
      "text/plain": [
       "1.0945945945945945"
      ]
     },
     "execution_count": 34,
     "metadata": {},
     "output_type": "execute_result"
    }
   ],
   "source": [
    "import numpy as np\n",
    "import matplotlib as mplt\n",
    "import pandas as pd \n",
    "import scipy as sci\n",
    "import math \n",
    "\n",
    "a = 9.25  \n",
    "b = 10.125 \n",
    "c = a+b\n",
    "d = b/a\n",
    "e = np.log(b)\n",
    "f = np.e**a\n",
    "g = a*np.pi\n",
    "sigfigs = 3\n",
    "#print('this is a test drive of e %.*e'%(sigfigs-1,a))\n",
    "#print('this is a test drive of g %.*g' %(sigfig,a))\n",
    "print ('c = %.*g' % (sigfigs,c))\n",
    "print ('d = %.*g'% (sigfigs,d))\n",
    "print ('c another way ={:1.3g}'.format(c))\n",
    "\n",
    "df = pd.DataFrame({\"Header\":[\" a+b \", \"b/a\", \"ln(b)\",\"e^a\",\"a*pi\"],\n",
    "                   \"Results\":[c, d, e, f, g]})\n",
    "df.at [0,\"Results\"]\n",
    "df.at [1,\"Results\"]\n",
    "#df.style.format({\"Results\" : \"{:.4g}\"})"
   ]
  },
  {
   "cell_type": "code",
   "execution_count": 30,
   "id": "3d974cd1",
   "metadata": {},
   "outputs": [
    {
     "name": "stdout",
     "output_type": "stream",
     "text": [
      "Q = 7e-06\n"
     ]
    }
   ],
   "source": [
    "import numpy as np\n",
    "import matplotlib as mplt\n",
    "import pandas as pd \n",
    "import scipy as sci\n",
    "import math \n",
    "\n",
    "radius = 2.25 # mm \n",
    "delp = 93.33 # Pa\n",
    "vlen = 15 # cm\n",
    "vis = .89 # cP\n",
    "sigfigs = 2\n",
    "\n",
    "conf1 = 1.0e-3 #m/mm\n",
    "conf2 = 1.0e-2 #m/cm\n",
    "conf3 = 1.0e-3 #Pa*s/cP\n",
    "\n",
    "\n",
    "radius = conf1*radius \n",
    "vlen = vlen*conf2 \n",
    "vis = vis*conf3\n",
    "\n",
    "def f(radius):\n",
    "    delp1 = 5.0 # delp in the function \n",
    "    qf = sci.pi*(radius**4)*delp/(8.0*vis*vlen)\n",
    "    return qf\n",
    "\n",
    "qc = f(radius)\n",
    "print ('Q = %.*g'% (sigfigs-1,qc))"
   ]
  },
  {
   "cell_type": "code",
   "execution_count": null,
   "id": "5b39d88d",
   "metadata": {},
   "outputs": [],
   "source": []
  }
 ],
 "metadata": {
  "kernelspec": {
   "display_name": "Python 3 (ipykernel)",
   "language": "python",
   "name": "python3"
  },
  "language_info": {
   "codemirror_mode": {
    "name": "ipython",
    "version": 3
   },
   "file_extension": ".py",
   "mimetype": "text/x-python",
   "name": "python",
   "nbconvert_exporter": "python",
   "pygments_lexer": "ipython3",
   "version": "3.9.12"
  }
 },
 "nbformat": 4,
 "nbformat_minor": 5
}
