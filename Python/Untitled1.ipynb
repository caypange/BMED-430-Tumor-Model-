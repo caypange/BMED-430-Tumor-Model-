{
 "cells": [
  {
   "cell_type": "code",
   "execution_count": 1,
   "id": "4061ebb8",
   "metadata": {},
   "outputs": [
    {
     "name": "stdout",
     "output_type": "stream",
     "text": [
      "John Smith\n",
      "20\n",
      "True\n"
     ]
    }
   ],
   "source": [
    "patient = \"John Smith\"\n",
    "age = 20 \n",
    "is_new = True \n",
    "print(patient)\n",
    "print(age)\n",
    "print(new_patient)"
   ]
  },
  {
   "cell_type": "code",
   "execution_count": 3,
   "id": "94da2b07",
   "metadata": {},
   "outputs": [
    {
     "name": "stdout",
     "output_type": "stream",
     "text": [
      "What is your name? Cayden \n",
      "What is your favorite color? Green\n",
      "Cayden  likes Green\n"
     ]
    }
   ],
   "source": [
    "name = input('What is your name? ')\n",
    "color = input( \"What is your favorite color? \")\n",
    "print(name + \" likes \" + color)\n"
   ]
  },
  {
   "cell_type": "code",
   "execution_count": null,
   "id": "7ae8f421",
   "metadata": {},
   "outputs": [],
   "source": []
  }
 ],
 "metadata": {
  "kernelspec": {
   "display_name": "Python 3 (ipykernel)",
   "language": "python",
   "name": "python3"
  },
  "language_info": {
   "codemirror_mode": {
    "name": "ipython",
    "version": 3
   },
   "file_extension": ".py",
   "mimetype": "text/x-python",
   "name": "python",
   "nbconvert_exporter": "python",
   "pygments_lexer": "ipython3",
   "version": "3.9.12"
  }
 },
 "nbformat": 4,
 "nbformat_minor": 5
}
