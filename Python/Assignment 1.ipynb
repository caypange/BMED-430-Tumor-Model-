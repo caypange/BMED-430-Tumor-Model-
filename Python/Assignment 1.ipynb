{
 "cells": [
  {
   "cell_type": "code",
   "execution_count": 1,
   "id": "90b23186",
   "metadata": {},
   "outputs": [],
   "source": [
    "import numpy as np\n",
    "import matplotlib as mplt\n",
    "import pandas as pd \n",
    "import scipy as sci\n",
    "import math \n",
    "\n",
    "a = 9.25        # 3 sigfigs\n",
    "sigf_a = 3\n",
    "b = 10.125   # 5 sigfigs\n",
    "sigf_b = 5\n",
    "\n",
    "df1 = pd.DataFrame({' Variables ' :[\"a\",\"b\"],\" initial variables \":['%.*g' % (sigf_a,a),'%.*g' % (sigf_b,b)],\" Sigfigs \":[sigf_a,sigf_b]})  # Create a formatted Panda DataFrame\n",
    "\n",
    "\n",
    "#case 1 \n",
    "c1 = a + b  #case 1 problem \n",
    "sigfigs = 4 #case 1 sig figs     \n",
    "\n",
    "L = ['%.*f' % (sigfigs-1,c1)] # list of values that will be apended with correct sig figs \n",
    "Sf = ['%d' % (sigfigs)]  #List for storing the amount of sig figs \n",
    "\n",
    "#case 2 \n",
    "c2 = b/a #  case 2 added\n",
    "sigfigs = 3\n",
    "L.append('%.*f ' % (sigfigs-1,c2))   #b/a formatted, added to list L with 'append'\n",
    "Sf.append('%d' % (sigfigs))             #  add the sigfigs of case 2 via Sf.append\n",
    "\n",
    "#case 3\n",
    "c3 = np.log(b) #  add case 3\n",
    "sigfigs = 5\n",
    "L.append('%.*f ' % (sigfigs-1,c3))   #np.log(b) formatted, added to list L with 'append'\n",
    "Sf.append('%d' % (sigfigs))             #  add the sigfigs of case 3 via Sf.append\n",
    "\n",
    "#case 4\n",
    "c4 = np.e**a #  add case 4\n",
    "sigfigs = 3\n",
    "L.append('%.*e ' % (sigfigs-1,c4))   #np.e** formatted, added to list L with 'append'\n",
    "Sf.append('%d' % (sigfigs))             #  add the sigfigs of case 4 via Sf.append\n",
    "\n",
    "#case 5\n",
    "c5 = np.pi*a #  add case 5\n",
    "sigfigs = 3\n",
    "L.append('%.*f ' % (sigfigs-2,c5))   #np.pi*a formatted, added to list L with 'append'\n",
    "Sf.append('%d' % (sigfigs))             #  add the sigfigs of case 5 via Sf append\n",
    "\n",
    "df2 =(pd.DataFrame({\" Header \":[\" a+b \", \" b/a \",\" ln(b) \",\" e^a \",\" a*pi \"] , \" Results \" : L ,\" Sigfigs \" : Sf})) #created a dataframe that houses all cases and results \n",
    "list_of_dfs = [df1,df2] #compiled the two data frames \n",
    "\n",
    "\n",
    "f=open('Formatted_output.csv','w') #create a csv file for writing the dataframes\n",
    "\n",
    "df1.to_csv('Formatted_output.csv', mode='w', index=False, header=True) #write dataframe 1 to the csv file \n",
    "\n",
    "f.write(\"\\n\") #writes a carriage reture after each data frame to create space \n",
    "\n",
    "df2.to_csv('Formatted_output.csv',mode='a', index=False, header=True) #write dataframe 2 to the csv file "
   ]
  },
  {
   "cell_type": "code",
   "execution_count": 23,
   "id": "231aaf53",
   "metadata": {},
   "outputs": [
    {
     "name": "stdout",
     "output_type": "stream",
     "text": [
      "Q = 7e-06\n"
     ]
    }
   ],
   "source": [
    "import numpy as np\n",
    "import matplotlib as mplt\n",
    "import pandas as pd \n",
    "import scipy as sci\n",
    "import math \n",
    "\n",
    "radius = 2.25 # mm \n",
    "delp = 93.33 # Pa\n",
    "vlen = 15 # cm\n",
    "vis = .89 # cP\n",
    "sigfigs = 2\n",
    "\n",
    "conf1 = 1.0e-3 #m/mm\n",
    "conf2 = 1.0e-2 #m/cm\n",
    "conf3 = 1.0e-3 #Pa*s/cP\n",
    "\n",
    "\n",
    "radius = conf1*radius #solving for the radius \n",
    "vlen = vlen*conf2 #solving for the length \n",
    "vis = vis*conf3   #solving for the viscocity \n",
    "\n",
    "def f(radius):\n",
    "    delp1 = 5.0 # delp in the function \n",
    "    qf = sci.pi*(radius**4)*delp/(8.0*vis*vlen) #function of Q\n",
    "    return qf\n",
    "\n",
    "qc = f(radius) #store the value of Q in a variable \n",
    "print ('Q = %.*g'% (sigfigs-1,qc)) #print the final result"
   ]
  },
  {
   "cell_type": "code",
   "execution_count": 21,
   "id": "4ba67d53",
   "metadata": {
    "scrolled": true
   },
   "outputs": [
    {
     "name": "stdout",
     "output_type": "stream",
     "text": [
      "k_og = 0.11\n"
     ]
    }
   ],
   "source": [
    "import numpy as np\n",
    "import matplotlib as mplt\n",
    "import pandas as pd \n",
    "import scipy as sci\n",
    "import math \n",
    "\n",
    "phi_f = .0520 # no units  \n",
    "a_s = 15.55 # nm\n",
    "a_f = 2.82 # nm\n",
    "pore= 1\n",
    "sigfigs = 3 # sig figs based on the equation\n",
    "\n",
    "\n",
    "def f(pore): # setting up the K_og function \n",
    "    kog = np.e**((-phi_f)*(1+(a_s/a_f))**2) #K_og function\n",
    "    return kog\n",
    "\n",
    "k_og = f(pore)\n",
    "\n",
    "print ('k_og = %.*g'% (sigfigs-1,k_og)) #printing the final result "
   ]
  },
  {
   "cell_type": "code",
   "execution_count": null,
   "id": "3b5e91d4",
   "metadata": {},
   "outputs": [],
   "source": []
  },
  {
   "cell_type": "code",
   "execution_count": 7,
   "id": "14a0ce1a",
   "metadata": {},
   "outputs": [
    {
     "data": {
      "text/html": [
       "<style type=\"text/css\">\n",
       "</style>\n",
       "<table id=\"T_5c16f\">\n",
       "  <thead>\n",
       "    <tr>\n",
       "      <th class=\"blank level0\" >&nbsp;</th>\n",
       "      <th id=\"T_5c16f_level0_col0\" class=\"col_heading level0 col0\" >Header</th>\n",
       "      <th id=\"T_5c16f_level0_col1\" class=\"col_heading level0 col1\" >Results</th>\n",
       "    </tr>\n",
       "  </thead>\n",
       "  <tbody>\n",
       "    <tr>\n",
       "      <th id=\"T_5c16f_level0_row0\" class=\"row_heading level0 row0\" >0</th>\n",
       "      <td id=\"T_5c16f_row0_col0\" class=\"data row0 col0\" > a+b </td>\n",
       "      <td id=\"T_5c16f_row0_col1\" class=\"data row0 col1\" >19.38</td>\n",
       "    </tr>\n",
       "    <tr>\n",
       "      <th id=\"T_5c16f_level0_row1\" class=\"row_heading level0 row1\" >1</th>\n",
       "      <td id=\"T_5c16f_row1_col0\" class=\"data row1 col0\" >b/a</td>\n",
       "      <td id=\"T_5c16f_row1_col1\" class=\"data row1 col1\" >1.095</td>\n",
       "    </tr>\n",
       "    <tr>\n",
       "      <th id=\"T_5c16f_level0_row2\" class=\"row_heading level0 row2\" >2</th>\n",
       "      <td id=\"T_5c16f_row2_col0\" class=\"data row2 col0\" >ln(b)</td>\n",
       "      <td id=\"T_5c16f_row2_col1\" class=\"data row2 col1\" >2.315</td>\n",
       "    </tr>\n",
       "    <tr>\n",
       "      <th id=\"T_5c16f_level0_row3\" class=\"row_heading level0 row3\" >3</th>\n",
       "      <td id=\"T_5c16f_row3_col0\" class=\"data row3 col0\" >e^a</td>\n",
       "      <td id=\"T_5c16f_row3_col1\" class=\"data row3 col1\" >1.04e+04</td>\n",
       "    </tr>\n",
       "    <tr>\n",
       "      <th id=\"T_5c16f_level0_row4\" class=\"row_heading level0 row4\" >4</th>\n",
       "      <td id=\"T_5c16f_row4_col0\" class=\"data row4 col0\" >a*pi</td>\n",
       "      <td id=\"T_5c16f_row4_col1\" class=\"data row4 col1\" >29.06</td>\n",
       "    </tr>\n",
       "  </tbody>\n",
       "</table>\n"
      ],
      "text/plain": [
       "<pandas.io.formats.style.Styler at 0x7fac2860ae50>"
      ]
     },
     "execution_count": 7,
     "metadata": {},
     "output_type": "execute_result"
    }
   ],
   "source": []
  },
  {
   "cell_type": "code",
   "execution_count": null,
   "id": "54098e1a",
   "metadata": {},
   "outputs": [],
   "source": []
  }
 ],
 "metadata": {
  "kernelspec": {
   "display_name": "Python 3 (ipykernel)",
   "language": "python",
   "name": "python3"
  },
  "language_info": {
   "codemirror_mode": {
    "name": "ipython",
    "version": 3
   },
   "file_extension": ".py",
   "mimetype": "text/x-python",
   "name": "python",
   "nbconvert_exporter": "python",
   "pygments_lexer": "ipython3",
   "version": "3.9.12"
  }
 },
 "nbformat": 4,
 "nbformat_minor": 5
}
