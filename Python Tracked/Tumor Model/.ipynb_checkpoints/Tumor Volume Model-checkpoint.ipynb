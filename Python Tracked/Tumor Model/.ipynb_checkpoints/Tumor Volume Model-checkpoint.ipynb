{
 "cells": [
  {
   "cell_type": "code",
   "execution_count": 27,
   "id": "6e903897",
   "metadata": {},
   "outputs": [
    {
     "name": "stdout",
     "output_type": "stream",
     "text": [
      "[]\n",
      "[]\n",
      "[]\n"
     ]
    }
   ],
   "source": [
    "import matplotlib.pyplot as plt\n",
    "import numpy as np\n",
    "import math\n",
    "import pandas as pd\n",
    "\n",
    "# lower limit of tumor volume = 1mm^3\n",
    "\n",
    "# set up input box\n",
    "\n",
    "lambda1 = 0.192 #[1/day]\n",
    "b = 5.85 #[1/day]\n",
    "d = 0.00873 #[1/day*mm^2]\n",
    "e = 0.66 #[1/day*mg]\n",
    "#u(t) = #angiogenic inhibitor effect\n",
    "#tstep = #yo mama\n",
    "epi = 0.000001\n",
    "max_error = 10\n",
    "guess_net = 105\n",
    "guess_vas = 15\n",
    "sigfigs = 4\n",
    "icount = 0 \n",
    "n0 = 5 #initial tumor volume in mm^3\n",
    "v0 = 5  #initial vascular volume in mm^3 \n",
    "\n",
    "umax = 15 #mg/kg of body mass of the drug \n",
    "\n",
    "net = []\n",
    "vas = []\n",
    "days = []\n",
    "while abs(dd1) > 1*10**-20: #while loop to solve for volume \n",
    "    icount += 1 \n",
    "    if icount < 65 :\n",
    "        umax = 15 \n",
    "    else : \n",
    "        umax = 13+4.5**(-(icount-65))\n",
    "    dd1 = -lambda1*n0*math.log10(n0/v0) #net tumor volume equation #derivitive of net volume function\n",
    "    dd2 = b*n0-d*(n0**(2/3))*v0-e*v0*umax #derivitive of vascular volume function\n",
    "    dt = .01\n",
    "    print(dd1,dd2,icount*dt)\n",
    "    n1 = n0 + dt*dd1 #establish new height \n",
    "    v1 = v0 + dt*dd2 \n",
    "    n0 = n1\n",
    "    v0 = v1\n",
    "    \n",
    "    days.append('%.*g'%(sigfigs,icount)) #add to time list \n",
    "    net.append('%.*g'%(sigfigs-1,n1)) #add to net volume list \n",
    "    vas.append('%.*g'%(sigfigs-1,v1)) #add to vas volume list \n",
    "print(net)\n",
    "print(vas)\n",
    "print(days)"
   ]
  },
  {
   "cell_type": "code",
   "execution_count": null,
   "id": "39356cfd",
   "metadata": {},
   "outputs": [],
   "source": []
  },
  {
   "cell_type": "code",
   "execution_count": null,
   "id": "79b02933",
   "metadata": {},
   "outputs": [],
   "source": []
  }
 ],
 "metadata": {
  "kernelspec": {
   "display_name": "Python 3 (ipykernel)",
   "language": "python",
   "name": "python3"
  },
  "language_info": {
   "codemirror_mode": {
    "name": "ipython",
    "version": 3
   },
   "file_extension": ".py",
   "mimetype": "text/x-python",
   "name": "python",
   "nbconvert_exporter": "python",
   "pygments_lexer": "ipython3",
   "version": "3.9.13"
  }
 },
 "nbformat": 4,
 "nbformat_minor": 5
}
