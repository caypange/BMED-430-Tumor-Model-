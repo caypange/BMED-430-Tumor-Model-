{
 "cells": [
  {
   "cell_type": "code",
   "execution_count": null,
   "id": "6e903897",
   "metadata": {},
   "outputs": [],
   "source": [
    "import matplotlib.pyplot as plt\n",
    "import numpy as np\n",
    "import math\n",
    "import pandas as pd\n",
    "\n",
    "# initial tumor volume = 1mm^3\n",
    "\n",
    "# set up input box\n",
    "\n",
    "lambda1 = 0.192 #[1/day]\n",
    "b = 5.85 #[1/day]\n",
    "d = 0.00873 #[1/day*mm^2]\n",
    "e = 0.66 #[1/day*mg]\n",
    "u(t) = #angiogenic inhibitor effect\n",
    "tstep = #yo mama\n",
    "epi = 0.000001\n",
    "max_error = 10\n",
    "\n",
    "dx1dt(t) = -lambda1*x1(t)*log(x1(t)/x2(t))\n",
    "dx2dt(t) = b*x1(t)-d*(x1(t))^(2/3)*x2(t)-e*x2(t)*u(t)\n",
    "\n",
    "x1 = []\n",
    "x2 = []\n",
    "\n",
    "while max_error>epi:\n",
    "    icount += 1\n",
    "    for j in range (1,n1):\n",
    "        y[j] = -(1/2)*(c[j]-(u[j+1]+u[j-1]))\n",
    "        err = np.abs(y[j] - u[j])\n",
    "        L_err.append(err)\n",
    "        u[j] = y[j] \n",
    "    max_error = max(L_err)    \n",
    "    L_err = []"
   ]
  }
 ],
 "metadata": {
  "kernelspec": {
   "display_name": "Python 3 (ipykernel)",
   "language": "python",
   "name": "python3"
  },
  "language_info": {
   "codemirror_mode": {
    "name": "ipython",
    "version": 3
   },
   "file_extension": ".py",
   "mimetype": "text/x-python",
   "name": "python",
   "nbconvert_exporter": "python",
   "pygments_lexer": "ipython3",
   "version": "3.9.12"
  }
 },
 "nbformat": 4,
 "nbformat_minor": 5
}
